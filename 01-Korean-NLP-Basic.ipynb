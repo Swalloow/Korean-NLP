{
 "cells": [
  {
   "cell_type": "markdown",
   "metadata": {},
   "source": [
    "# Korean NLP Basic\n",
    "[한국어 형태소 분석기 태그 분석 표 참고](https://docs.google.com/spreadsheets/d/1OGAjUvalBuX-oZvZ_-9tEfYD2gQe7hTGsgUpiiBSXI8/edit#gid=0)"
   ]
  },
  {
   "cell_type": "markdown",
   "metadata": {},
   "source": [
    "### KoNLPy를 이용한 한국어 형태소 분석\n",
    "사용할 데이터 : 헌법재판소 탄핵 판결문"
   ]
  },
  {
   "cell_type": "code",
   "execution_count": 1,
   "metadata": {
    "collapsed": true
   },
   "outputs": [],
   "source": [
    "from konlpy.tag import Mecab\n",
    "from konlpy.tag import Twitter"
   ]
  },
  {
   "cell_type": "code",
   "execution_count": 2,
   "metadata": {
    "collapsed": true
   },
   "outputs": [],
   "source": [
    "with open('source/2016huna1.txt') as text:\n",
    "    corpus = text.read()"
   ]
  },
  {
   "cell_type": "code",
   "execution_count": 3,
   "metadata": {},
   "outputs": [
    {
     "data": {
      "text/plain": [
       "[('지금', 'NNG'),\n",
       " ('부터', 'JX'),\n",
       " ('2016', 'SN'),\n",
       " ('헌', 'NNG'),\n",
       " ('나', 'JC'),\n",
       " ('1', 'SN'),\n",
       " ('대통령', 'NNG'),\n",
       " ('박근혜', 'NNP'),\n",
       " ('탄핵', 'NNG'),\n",
       " ('사건', 'NNG'),\n",
       " ('에', 'JKB'),\n",
       " ('대한', 'VV+ETM'),\n",
       " ('선고', 'NNG'),\n",
       " ('를', 'JKO'),\n",
       " ('시작', 'NNG'),\n",
       " ('하', 'XSV'),\n",
       " ('겠', 'EP'),\n",
       " ('습니다', 'EF'),\n",
       " ('.', 'SF')]"
      ]
     },
     "execution_count": 3,
     "metadata": {},
     "output_type": "execute_result"
    }
   ],
   "source": [
    "mecab = Mecab()\n",
    "mecab.pos(corpus[:43])"
   ]
  },
  {
   "cell_type": "code",
   "execution_count": 4,
   "metadata": {
    "scrolled": true
   },
   "outputs": [
    {
     "data": {
      "text/plain": [
       "['지금', '헌', '대통령', '박근혜', '탄핵', '사건', '선고', '시작']"
      ]
     },
     "execution_count": 4,
     "metadata": {},
     "output_type": "execute_result"
    }
   ],
   "source": [
    "mecab.nouns(corpus[:43])"
   ]
  },
  {
   "cell_type": "markdown",
   "metadata": {},
   "source": [
    "### 트위터 형태소 분석기\n",
    "한국어 특수문자까지 분석할 수 있다. 주로 SNS, 채팅 데이터 분석에 사용"
   ]
  },
  {
   "cell_type": "code",
   "execution_count": 5,
   "metadata": {},
   "outputs": [
    {
     "data": {
      "text/plain": [
       "[('20', 'Number'),\n",
       " ('대도', 'Noun'),\n",
       " ('아니', 'Adjective'),\n",
       " ('라', 'Eomi'),\n",
       " ('닠', 'Noun'),\n",
       " ('ㅋㅋㅋㅋㅋㅋㅋ', 'KoreanParticle')]"
      ]
     },
     "execution_count": 5,
     "metadata": {},
     "output_type": "execute_result"
    }
   ],
   "source": [
    "twitter = Twitter()\n",
    "twitter.pos(\"20대도 아니라닠ㅋㅋㅋㅋㅋㅋㅋ\")"
   ]
  },
  {
   "cell_type": "markdown",
   "metadata": {},
   "source": [
    "### N-gram\n",
    "문자열을 N 만큼 쪼개어 이어붙이는 방법, 기존의 input보다 좋은 성능을 내는 경우가 많다."
   ]
  },
  {
   "cell_type": "code",
   "execution_count": 6,
   "metadata": {},
   "outputs": [],
   "source": [
    "def ngrams(input, n):\n",
    "    input = input.split(' ')\n",
    "    output = []\n",
    "    for i in range(len(input)-n+1):\n",
    "        output.append(input[i:i+n])\n",
    "    return output"
   ]
  },
  {
   "cell_type": "code",
   "execution_count": 7,
   "metadata": {},
   "outputs": [
    {
     "data": {
      "text/plain": [
       "[['지금부터', '2016헌나1'],\n",
       " ['2016헌나1', '대통령'],\n",
       " ['대통령', '박근혜'],\n",
       " ['박근혜', '탄핵사건에'],\n",
       " ['탄핵사건에', '대한'],\n",
       " ['대한', '선고를'],\n",
       " ['선고를', '시작하겠습니다.\\n']]"
      ]
     },
     "execution_count": 7,
     "metadata": {},
     "output_type": "execute_result"
    }
   ],
   "source": [
    "# bigram\n",
    "ngrams(corpus[:43], 2)"
   ]
  },
  {
   "cell_type": "code",
   "execution_count": 8,
   "metadata": {},
   "outputs": [
    {
     "data": {
      "text/plain": [
       "[['지금부터', '2016헌나1', '대통령'],\n",
       " ['2016헌나1', '대통령', '박근혜'],\n",
       " ['대통령', '박근혜', '탄핵사건에'],\n",
       " ['박근혜', '탄핵사건에', '대한'],\n",
       " ['탄핵사건에', '대한', '선고를'],\n",
       " ['대한', '선고를', '시작하겠습니다.\\n']]"
      ]
     },
     "execution_count": 8,
     "metadata": {},
     "output_type": "execute_result"
    }
   ],
   "source": [
    "# trigram\n",
    "ngrams(corpus[:43], 3)"
   ]
  }
 ],
 "metadata": {
  "kernelspec": {
   "display_name": "Python 3",
   "language": "python",
   "name": "python3"
  },
  "language_info": {
   "codemirror_mode": {
    "name": "ipython",
    "version": 3
   },
   "file_extension": ".py",
   "mimetype": "text/x-python",
   "name": "python",
   "nbconvert_exporter": "python",
   "pygments_lexer": "ipython3",
   "version": "3.5.1"
  }
 },
 "nbformat": 4,
 "nbformat_minor": 2
}
